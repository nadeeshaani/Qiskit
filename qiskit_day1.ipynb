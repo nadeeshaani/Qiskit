{
 "cells": [
  {
   "cell_type": "code",
   "execution_count": 2,
   "id": "eb153aff",
   "metadata": {},
   "outputs": [],
   "source": [
    "from qiskit import *"
   ]
  },
  {
   "cell_type": "code",
   "execution_count": 3,
   "id": "4bd05cda",
   "metadata": {},
   "outputs": [],
   "source": [
    "qr = QuantumRegister(2) #building a quantum register"
   ]
  },
  {
   "cell_type": "code",
   "execution_count": 4,
   "id": "b2fd1b47",
   "metadata": {},
   "outputs": [],
   "source": [
    "cr = ClassicalRegister(2) # Building a classical register"
   ]
  },
  {
   "cell_type": "code",
   "execution_count": 7,
   "id": "768a3d57",
   "metadata": {},
   "outputs": [],
   "source": [
    "# Building a circuit using those two circuits we built\n",
    "\n",
    "circuit = QuantumCircuit(qr, cr)\n"
   ]
  },
  {
   "cell_type": "code",
   "execution_count": 9,
   "id": "cf9e4780",
   "metadata": {},
   "outputs": [],
   "source": [
    "# Drawing the created quantum circuit\n",
    "\n",
    "%matplotlib inline"
   ]
  },
  {
   "cell_type": "code",
   "execution_count": 10,
   "id": "1ba644ae",
   "metadata": {},
   "outputs": [
    {
     "data": {
      "text/html": [
       "<pre style=\"word-wrap: normal;white-space: pre;background: #fff0;line-height: 1.1;font-family: &quot;Courier New&quot;,Courier,monospace\">      \n",
       "q0_0: \n",
       "      \n",
       "q0_1: \n",
       "      \n",
       "c0: 2/\n",
       "      </pre>"
      ],
      "text/plain": [
       "      \n",
       "q0_0: \n",
       "      \n",
       "q0_1: \n",
       "      \n",
       "c0: 2/\n",
       "      "
      ]
     },
     "execution_count": 10,
     "metadata": {},
     "output_type": "execute_result"
    }
   ],
   "source": [
    "circuit.draw()"
   ]
  },
  {
   "cell_type": "code",
   "execution_count": 13,
   "id": "c2fc1e28",
   "metadata": {},
   "outputs": [
    {
     "data": {
      "text/plain": [
       "<qiskit.circuit.instructionset.InstructionSet at 0x21c195e8a00>"
      ]
     },
     "execution_count": 13,
     "metadata": {},
     "output_type": "execute_result"
    }
   ],
   "source": [
    "# Applying Hadamard gate onto the first Qubit\n",
    "circuit.h(qr[0])"
   ]
  },
  {
   "cell_type": "code",
   "execution_count": 15,
   "id": "e65d0b78",
   "metadata": {},
   "outputs": [
    {
     "data": {
      "image/png": "[encoded data removed]",
      "text/plain": [
       "<Figure size 221.712x284.278 with 1 Axes>"
      ]
     },
     "execution_count": 15,
     "metadata": {},
     "output_type": "execute_result"
    }
   ],
   "source": [
    "# Drawing a plot of the circuit\n",
    "circuit.draw(output = 'mpl')"
   ]
  },
  {
   "cell_type": "code",
   "execution_count": 17,
   "id": "8e4af348",
   "metadata": {},
   "outputs": [
    {
     "data": {
      "text/plain": [
       "<qiskit.circuit.instructionset.InstructionSet at 0x21c1f225d00>"
      ]
     },
     "execution_count": 17,
     "metadata": {},
     "output_type": "execute_result"
    }
   ],
   "source": [
    "# Creating a two qubit operation called a controlled X\n",
    "# This two qubit operation is like a logical if (quantum version of if)\n",
    "# control -> first qubit and target -> second qubit\n",
    "\n",
    "circuit.cx(qr[0], qr[1])"
   ]
  },
  {
   "cell_type": "code",
   "execution_count": 18,
   "id": "38ad73ab",
   "metadata": {},
   "outputs": [
    {
     "data": {
      "image/png": "[encoded data removed]",
      "text/plain": [
       "<Figure size 305.323x284.278 with 1 Axes>"
      ]
     },
     "execution_count": 18,
     "metadata": {},
     "output_type": "execute_result"
    }
   ],
   "source": [
    "# drawing the circuit\n",
    "circuit.draw(output = 'mpl')"
   ]
  },
  {
   "cell_type": "code",
   "execution_count": 19,
   "id": "07d0cfaf",
   "metadata": {},
   "outputs": [],
   "source": [
    "# Now our circuit consists of a Hadamard gate and a controlled nod"
   ]
  },
  {
   "cell_type": "code",
   "execution_count": 20,
   "id": "31ec9124",
   "metadata": {},
   "outputs": [],
   "source": [
    "# Now we are able to generate entanglement between Q zero, sub zero and Q zero sub one\n"
   ]
  },
  {
   "cell_type": "code",
   "execution_count": 21,
   "id": "fc035680",
   "metadata": {},
   "outputs": [],
   "source": [
    "# Next we are going to measure quantum bits, and store them into classical bits"
   ]
  },
  {
   "cell_type": "code",
   "execution_count": 23,
   "id": "1ff7c3e4",
   "metadata": {},
   "outputs": [
    {
     "data": {
      "text/plain": [
       "<qiskit.circuit.instructionset.InstructionSet at 0x21c1ef93040>"
      ]
     },
     "execution_count": 23,
     "metadata": {},
     "output_type": "execute_result"
    }
   ],
   "source": [
    "# Taking the results from measuring the qubits in the quantum register\n",
    "# and storing them in classical register\n",
    "\n",
    "circuit.measure(qr, cr)"
   ]
  },
  {
   "cell_type": "code",
   "execution_count": 24,
   "id": "1c548c52",
   "metadata": {},
   "outputs": [
    {
     "data": {
      "image/png": "[encoded data removed]",
      "text/plain": [
       "<Figure size 472.545x284.278 with 1 Axes>"
      ]
     },
     "execution_count": 24,
     "metadata": {},
     "output_type": "execute_result"
    }
   ],
   "source": [
    "circuit.draw(output = 'mpl')"
   ]
  },
  {
   "cell_type": "code",
   "execution_count": 25,
   "id": "8d91a24e",
   "metadata": {},
   "outputs": [],
   "source": [
    "# running the quantum circuit on our classical computer\n",
    "# Using aer component of Qiskit\n",
    "# aer is what we use to do simulations on our local computer\n",
    "\n",
    "# importing simulator from air -> name of the simulator QASM\n",
    "simulator = Aer.get_backend('qasm_simulator')\n"
   ]
  },
  {
   "cell_type": "code",
   "execution_count": 29,
   "id": "322362e1",
   "metadata": {},
   "outputs": [],
   "source": [
    "# running and seeing the results\n",
    "result = execute(circuit, backend = simulator).result()"
   ]
  },
  {
   "cell_type": "code",
   "execution_count": 30,
   "id": "f4d03fd4",
   "metadata": {},
   "outputs": [],
   "source": [
    "# importing visualisation tools from qiskit\n",
    "from qiskit.tools.visualization import plot_histogram"
   ]
  },
  {
   "cell_type": "code",
   "execution_count": 31,
   "id": "215c1c91",
   "metadata": {},
   "outputs": [
    {
     "data": {
      "image/png": "[encoded data removed]",
      "text/plain": [
       "<Figure size 700x500 with 1 Axes>"
      ]
     },
     "execution_count": 31,
     "metadata": {},
     "output_type": "execute_result"
    }
   ],
   "source": [
    "plot_histogram(result.get_counts(circuit))"
   ]
  },
  {
   "cell_type": "code",
   "execution_count": 36,
   "id": "345d29d8",
   "metadata": {},
   "outputs": [
    {
     "name": "stderr",
     "output_type": "stream",
     "text": [
      "ibmqfactory.load_account:WARNING:2023-03-15 22:42:17,131: Credentials are already in use. The existing account in the session will be replaced.\n"
     ]
    },
    {
     "data": {
      "text/plain": [
       "<AccountProvider for IBMQ(hub='ibm-q', group='open', project='main')>"
      ]
     },
     "execution_count": 36,
     "metadata": {},
     "output_type": "execute_result"
    }
   ],
   "source": [
    "# loading our IBM accounts\n",
    "IBMQ.load_account()"
   ]
  },
  {
   "cell_type": "code",
   "execution_count": 33,
   "id": "af126d4c",
   "metadata": {},
   "outputs": [],
   "source": [
    "provider = IBMQ.get_provider('ibm-q')"
   ]
  },
  {
   "cell_type": "code",
   "execution_count": null,
   "id": "504254f0",
   "metadata": {},
   "outputs": [],
   "source": []
  },
  {
   "cell_type": "code",
   "execution_count": null,
   "id": "cb1f5e6b",
   "metadata": {},
   "outputs": [],
   "source": []
  }
 ],
 "metadata": {
  "kernelspec": {
   "display_name": "Python 3 (ipykernel)",
   "language": "python",
   "name": "python3"
  },
  "language_info": {
   "codemirror_mode": {
    "name": "ipython",
    "version": 3
   },
   "file_extension": ".py",
   "mimetype": "text/x-python",
   "name": "python",
   "nbconvert_exporter": "python",
   "pygments_lexer": "ipython3",
   "version": "3.9.13"
  }
 },
 "nbformat": 4,
 "nbformat_minor": 5
}
